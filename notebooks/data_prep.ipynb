{
 "cells": [
  {
   "cell_type": "code",
   "execution_count": null,
   "metadata": {},
   "outputs": [],
   "source": [
    "import pandas as pd\n",
    "\n",
    "import numpy as np\n",
    "import os, sys\n",
    "import plotly.express as px\n",
    "import h5py\n",
    "\n",
    "# pvlib imports\n",
    "import pvlib\n",
    "from pvlib.pvsystem import PVSystem\n",
    "from pvlib.location import Location\n",
    "from pvlib.modelchain import ModelChain\n",
    "from pvlib.temperature import TEMPERATURE_MODEL_PARAMETERS\n",
    "from sklearn.ensemble import HistGradientBoostingRegressor\n",
    "from scipy import stats"
   ]
  },
  {
   "cell_type": "code",
   "execution_count": null,
   "metadata": {},
   "outputs": [],
   "source": [
    "\n",
    "# Set working directory\n",
    "os.chdir(r\"..\") # should be the git repo root directory\n",
    "print(\"Current working directory: \" + os.getcwd())\n",
    "repo_name = 'net-load-forecasting'\n",
    "assert os.getcwd()[-len(repo_name):] == \"net-load-forecasting\", \"Working directory is not the git repo root directory\""
   ]
  },
  {
   "cell_type": "code",
   "execution_count": 7,
   "metadata": {},
   "outputs": [
    {
     "name": "stdout",
     "output_type": "stream",
     "text": [
      "Created directory: c:\\Users\\nik\\Desktop\\Berkeley_Projects\\net-load-forecasting\\data\\clean_data\n"
     ]
    }
   ],
   "source": [
    "save_path = os.path.join(os.getcwd(),'data','clean_data')\n",
    "if not os.path.exists(save_path):\n",
    "    os.makedirs(save_path)\n",
    "    print(\"Created directory: \" + save_path)"
   ]
  },
  {
   "cell_type": "code",
   "execution_count": null,
   "metadata": {},
   "outputs": [],
   "source": [
    "# Import custom functions\n",
    "from utils.utils import *"
   ]
  },
  {
   "attachments": {},
   "cell_type": "markdown",
   "metadata": {},
   "source": [
    "# Data Imports & Cleaning for the Project "
   ]
  },
  {
   "attachments": {},
   "cell_type": "markdown",
   "metadata": {},
   "source": [
    "## &#x2460; Household Load Data - Germany\n",
    "\n",
    "[![DOI](https://zenodo.org/badge/DOI/10.5281/zenodo.5642902.svg)](https://doi.org/10.5281/zenodo.5642902)\n",
    "\n",
    "We have downloaded the load data for [2018,2019,2020] in [10 seconds, 15 minutes] resolution:\n",
    "\n",
    "* 2018_data_10s.zip, 2019_data_10s.zip, 2020_data_10s.zip\n",
    "* 2018_data_15min.zip, 2019_data_15min.zip, 2020_data_15min.zip,\n",
    "\n",
    "Note: Due to their size we have not included the datasets in the repo, but the above link will allow you to download them, np."
   ]
  },
  {
   "attachments": {},
   "cell_type": "markdown",
   "metadata": {},
   "source": [
    "## &#x2461; PV Power Data - Netherlands\n",
    "\n",
    "[![DOI](https://zenodo.org/badge/DOI/10.5281/zenodo.6906504.svg)](https://doi.org/10.5281/zenodo.6906504)\n",
    "\n",
    "We have downloaded the 'filtered_power_measurements_ac.csv' file\n",
    "\n",
    "Note: While meta data is available for download, exact locations of individual PV systems are not included. Since one of the key research questions of this project is to investigate the impact of using exact locations in modeling, we recieved special permission to use the longitude and latitude of PV systems. Unfortunately we cannot share these here. The rest of the code is executable with the boundary box locations provided in the 'metadata.csv', however. \n",
    "\n",
    "Note: Due to their size we have not included the datasets in the repo, but the above link will allow you to download them, np."
   ]
  },
  {
   "attachments": {},
   "cell_type": "markdown",
   "metadata": {},
   "source": [
    "## &#x2462; Irradiance Data - Netherlands\n",
    "\n",
    "We have included the irradiance data 'ghi_dni_dhi.csv' for the general coordinates for Utrecht (lat = 52.092876, lon = 5.104480), obtained from https://solcast.com/\n",
    "\n",
    "This is the data that is used throughout the project."
   ]
  },
  {
   "attachments": {},
   "cell_type": "markdown",
   "metadata": {},
   "source": [
    "# Data Merging & Saving "
   ]
  }
 ],
 "metadata": {
  "kernelspec": {
   "display_name": "netload",
   "language": "python",
   "name": "python3"
  },
  "language_info": {
   "codemirror_mode": {
    "name": "ipython",
    "version": 3
   },
   "file_extension": ".py",
   "mimetype": "text/x-python",
   "name": "python",
   "nbconvert_exporter": "python",
   "pygments_lexer": "ipython3",
   "version": "3.11.3"
  },
  "orig_nbformat": 4
 },
 "nbformat": 4,
 "nbformat_minor": 2
}
