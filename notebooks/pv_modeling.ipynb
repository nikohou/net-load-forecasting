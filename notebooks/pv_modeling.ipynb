{
 "cells": [
  {
   "cell_type": "code",
   "execution_count": 1,
   "metadata": {},
   "outputs": [
    {
     "name": "stdout",
     "output_type": "stream",
     "text": [
      "Current working directory: c:\\Users\\nik\\Desktop\\Berkeley_Projects\\net-load-forecasting\n"
     ]
    }
   ],
   "source": [
    "import pandas as pd\n",
    "import os\n",
    "# Set working directory\n",
    "os.chdir(r\"..\") # should be the git repo root directory\n",
    "print(\"Current working directory: \" + os.getcwd())\n",
    "repo_name = 'net-load-forecasting'\n",
    "assert os.getcwd()[-len(repo_name):] == \"net-load-forecasting\", \"Working directory is not the git repo root directory\"\n",
    "\n",
    "\n",
    "from utils.utils import *"
   ]
  },
  {
   "cell_type": "code",
   "execution_count": 11,
   "metadata": {},
   "outputs": [],
   "source": [
    "clean_data_path = os.path.join(os.getcwd(),'data','clean_data')\n",
    "\n",
    "model_data_path = os.path.join(os.getcwd(),'data','model_data')\n",
    "\n",
    "scenarios_to_build = [\n",
    "                        'META-1',\n",
    "                        # 'META-2',\n",
    "                        # 'META-3',\n",
    "                        # 'META-4', \n",
    "                        # 'META-5'\n",
    "                    ]\n",
    "\n",
    "resolutions = [\n",
    "                '1min', \n",
    "                #'15min'\n",
    "                ]\n"
   ]
  },
  {
   "cell_type": "code",
   "execution_count": 12,
   "metadata": {},
   "outputs": [
    {
     "name": "stdout",
     "output_type": "stream",
     "text": [
      "Generating PV forecasts for scenario: META-1\n"
     ]
    },
    {
     "name": "stderr",
     "output_type": "stream",
     "text": [
      "c:\\Users\\nik\\miniconda3\\envs\\gpu2\\lib\\site-packages\\tables\\path.py:137: NaturalNameWarning: object name is not a valid Python identifier: 'pv_forecast_META-1'; it does not match the pattern ``^[a-zA-Z_][a-zA-Z0-9_]*$``; you will not be able to use natural naming to access this object; using ``getattr()`` will still work, though\n",
      "  check_attribute_name(name)\n"
     ]
    }
   ],
   "source": [
    "store = pd.HDFStore(os.path.join(model_data_path, \"pv_model_results_2.h5\"))\n",
    "\n",
    "for temp_resolution in resolutions:\n",
    "\n",
    "    df = pd.read_hdf(os.path.join(clean_data_path, \"data_net_load_forecasting.h5\"), key=f\"{temp_resolution}/netload\")\n",
    "\n",
    "    df_pv = pd.read_hdf(os.path.join(clean_data_path, \"data_net_load_forecasting.h5\"),  key=f\"{temp_resolution}/community_pv\")\n",
    "\n",
    "    df_meta = pd.read_hdf(os.path.join(clean_data_path, \"data_net_load_forecasting.h5\"), key='pv_metadata')\n",
    "\n",
    "    df_irr = pd.read_hdf(os.path.join(clean_data_path, \"data_net_load_forecasting.h5\"), key= f\"{temp_resolution}/weather\")\n",
    "    df_irr.rename({'temperature': 'temp_air'}, axis=1, inplace=True)\n",
    "\n",
    "\n",
    "    list_meta_per_scenario = {}\n",
    "    for meta_scen in scenarios_to_build:\n",
    "        list_meta_per_scenario[meta_scen] = prepare_metadata_per_scenario(df, df_meta, df_irr, meta_data_scenario=meta_scen)\n",
    "\n",
    "    for meta_scen in scenarios_to_build:\n",
    "        print(f'Generating PV forecasts for scenario: {meta_scen}')\n",
    "        list_meta = list_meta_per_scenario[meta_scen]\n",
    "        pv_forecast_per_scenario = []\n",
    "        for df_meta in list_meta:\n",
    "            df_pv_forecast = df_meta.apply(lambda x: physical_profile(x, df_irr), axis=1).T.sum(axis=1).to_frame('pv_forecast')\n",
    "            pv_forecast_per_scenario.append(df_pv_forecast)\n",
    "        \n",
    "        df_pv_forecast_per_scenario = pd.concat(pv_forecast_per_scenario, axis=1).mean(axis=1).to_frame(f'pv_forecast_{meta_scen}')\n",
    "        store.put(f'{temp_resolution}/pv_forecast_{meta_scen}', df_pv_forecast_per_scenario, format='table')\n",
    "\n",
    "store.close()\n",
    "\n"
   ]
  },
  {
   "cell_type": "code",
   "execution_count": null,
   "metadata": {},
   "outputs": [],
   "source": []
  }
 ],
 "metadata": {
  "kernelspec": {
   "display_name": "gpu2",
   "language": "python",
   "name": "python3"
  },
  "language_info": {
   "codemirror_mode": {
    "name": "ipython",
    "version": 3
   },
   "file_extension": ".py",
   "mimetype": "text/x-python",
   "name": "python",
   "nbconvert_exporter": "python",
   "pygments_lexer": "ipython3",
   "version": "3.10.9"
  },
  "orig_nbformat": 4
 },
 "nbformat": 4,
 "nbformat_minor": 2
}
